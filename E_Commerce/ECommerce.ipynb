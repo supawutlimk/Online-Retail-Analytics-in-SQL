{
 "cells": [
  {
   "cell_type": "code",
   "execution_count": 1,
   "id": "ec17804d",
   "metadata": {},
   "outputs": [],
   "source": [
    "import pandas as pd\n",
    "import sqlite3\n",
    "\n",
    "# 1. Load CSV into pandas\n",
    "df = pd.read_csv(\"data.csv\", encoding=\"latin1\")\n",
    "# Fix dates\n",
    "df[\"InvoiceDate\"] = pd.to_datetime(df[\"InvoiceDate\"], errors=\"coerce\")\n",
    "\n",
    "# 2. Create SQLite DB and save table\n",
    "con = sqlite3.connect(\"retail.db\")\n",
    "df.to_sql(\"retail\", con, if_exists=\"replace\", index=False)\n",
    "con.close()\n"
   ]
  },
  {
   "cell_type": "code",
   "execution_count": 2,
   "id": "8b35070c",
   "metadata": {},
   "outputs": [
    {
     "name": "stdout",
     "output_type": "stream",
     "text": [
      "Done!\n",
      "Done!\n"
     ]
    }
   ],
   "source": [
    "%load_ext isqlite3\n",
    "\n",
    "%sql_open retail.db \n"
   ]
  },
  {
   "cell_type": "code",
   "execution_count": 3,
   "id": "5da6d163",
   "metadata": {},
   "outputs": [
    {
     "data": {
      "text/html": [
       "<table><thead><tr><th style=\"text-align: left\">InvoiceNo</th><th style=\"text-align: left\">StockCode</th><th style=\"text-align: left\">Description</th><th style=\"text-align: left\">Quantity</th><th style=\"text-align: left\">InvoiceDate</th><th style=\"text-align: left\">UnitPrice</th><th style=\"text-align: left\">CustomerID</th><th style=\"text-align: left\">Country</th></tr></thead><tbody><tr><td style=\"text-align: left\">536365</td><td style=\"text-align: left\">85123A</td><td style=\"text-align: left\">WHITE HANGING HEART T-LIGHT HOLDER</td><td style=\"text-align: right\">6</td><td style=\"text-align: left\">2010-12-01 08:26:00</td><td style=\"text-align: right\">2.55</td><td style=\"text-align: right\">17850.0</td><td style=\"text-align: left\">United Kingdom</td></tr><tr><td style=\"text-align: left\">536365</td><td style=\"text-align: left\">71053</td><td style=\"text-align: left\">WHITE METAL LANTERN</td><td style=\"text-align: right\">6</td><td style=\"text-align: left\">2010-12-01 08:26:00</td><td style=\"text-align: right\">3.39</td><td style=\"text-align: right\">17850.0</td><td style=\"text-align: left\">United Kingdom</td></tr><tr><td style=\"text-align: left\">536365</td><td style=\"text-align: left\">84406B</td><td style=\"text-align: left\">CREAM CUPID HEARTS COAT HANGER</td><td style=\"text-align: right\">8</td><td style=\"text-align: left\">2010-12-01 08:26:00</td><td style=\"text-align: right\">2.75</td><td style=\"text-align: right\">17850.0</td><td style=\"text-align: left\">United Kingdom</td></tr><tr><td style=\"text-align: left\">536365</td><td style=\"text-align: left\">84029G</td><td style=\"text-align: left\">KNITTED UNION FLAG HOT WATER BOTTLE</td><td style=\"text-align: right\">6</td><td style=\"text-align: left\">2010-12-01 08:26:00</td><td style=\"text-align: right\">3.39</td><td style=\"text-align: right\">17850.0</td><td style=\"text-align: left\">United Kingdom</td></tr><tr><td style=\"text-align: left\">536365</td><td style=\"text-align: left\">84029E</td><td style=\"text-align: left\">RED WOOLLY HOTTIE WHITE HEART.</td><td style=\"text-align: right\">6</td><td style=\"text-align: left\">2010-12-01 08:26:00</td><td style=\"text-align: right\">3.39</td><td style=\"text-align: right\">17850.0</td><td style=\"text-align: left\">United Kingdom</td></tr></tbody></table>"
      ],
      "text/plain": [
       "<IPython.core.display.HTML object>"
      ]
     },
     "execution_count": 3,
     "metadata": {},
     "output_type": "execute_result"
    }
   ],
   "source": [
    "%%sql\n",
    "\n",
    "SELECT *\n",
    "FROM retail\n",
    "LIMIT 5;\n"
   ]
  },
  {
   "cell_type": "code",
   "execution_count": 4,
   "id": "d890cab8",
   "metadata": {},
   "outputs": [
    {
     "data": {
      "text/html": [
       "<table><thead><tr><th style=\"text-align: left\">rows</th><th style=\"text-align: left\">clean_rows</th></tr></thead><tbody><tr><td style=\"text-align: right\">541909</td><td style=\"text-align: right\">530104</td></tr></tbody></table>"
      ],
      "text/plain": [
       "<IPython.core.display.HTML object>"
      ]
     },
     "execution_count": 4,
     "metadata": {},
     "output_type": "execute_result"
    }
   ],
   "source": [
    "%%sql\n",
    "\n",
    "SELECT COUNT(*) AS rows, \n",
    "       SUM(CASE WHEN Quantity>0 AND UnitPrice>0 AND InvoiceNo NOT LIKE 'C%' THEN 1 ELSE 0 END) AS clean_rows\n",
    "FROM retail;\n"
   ]
  },
  {
   "cell_type": "code",
   "execution_count": 5,
   "id": "125f1950",
   "metadata": {},
   "outputs": [
    {
     "data": {
      "text/html": [
       "<table><thead><tr><th style=\"text-align: left\">total_revenue</th></tr></thead><tbody><tr><td style=\"text-align: right\">10666684.54</td></tr></tbody></table>"
      ],
      "text/plain": [
       "<IPython.core.display.HTML object>"
      ]
     },
     "execution_count": 5,
     "metadata": {},
     "output_type": "execute_result"
    }
   ],
   "source": [
    "%%sql\n",
    "\n",
    "SELECT ROUND(SUM(Quantity * UnitPrice), 2) AS total_revenue\n",
    "FROM retail\n",
    "WHERE Quantity > 0 AND UnitPrice > 0 AND InvoiceNo NOT LIKE 'C%';\n"
   ]
  },
  {
   "cell_type": "code",
   "execution_count": 32,
   "id": "917e2c98",
   "metadata": {},
   "outputs": [
    {
     "data": {
      "text/html": [
       "<table><thead><tr><th style=\"text-align: left\">month</th><th style=\"text-align: left\">revenue</th></tr></thead><tbody><tr><td style=\"text-align: left\">2011-11</td><td style=\"text-align: right\">1509496.33</td></tr><tr><td style=\"text-align: left\">2011-10</td><td style=\"text-align: right\">1154979.3</td></tr><tr><td style=\"text-align: left\">2011-09</td><td style=\"text-align: right\">1058590.17</td></tr><tr><td style=\"text-align: left\">2010-12</td><td style=\"text-align: right\">823746.14</td></tr><tr><td style=\"text-align: left\">2011-05</td><td style=\"text-align: right\">770536.02</td></tr><tr><td style=\"text-align: left\">2011-06</td><td style=\"text-align: right\">761739.9</td></tr><tr><td style=\"text-align: left\">2011-08</td><td style=\"text-align: right\">759138.38</td></tr><tr><td style=\"text-align: left\">2011-07</td><td style=\"text-align: right\">719221.19</td></tr><tr><td style=\"text-align: left\">2011-03</td><td style=\"text-align: right\">717639.36</td></tr><tr><td style=\"text-align: left\">2011-01</td><td style=\"text-align: right\">691364.56</td></tr><tr><td style=\"text-align: left\">2011-12</td><td style=\"text-align: right\">638792.68</td></tr><tr><td style=\"text-align: left\">2011-04</td><td style=\"text-align: right\">537808.62</td></tr><tr><td style=\"text-align: left\">2011-02</td><td style=\"text-align: right\">523631.89</td></tr></tbody></table>"
      ],
      "text/plain": [
       "<IPython.core.display.HTML object>"
      ]
     },
     "execution_count": 32,
     "metadata": {},
     "output_type": "execute_result"
    }
   ],
   "source": [
    "%%sql\n",
    "SELECT strftime('%Y-%m', InvoiceDate) AS month,\n",
    "       ROUND(SUM(Quantity * UnitPrice), 2) AS revenue\n",
    "FROM retail\n",
    "WHERE Quantity > 0 AND UnitPrice > 0 AND InvoiceNo NOT LIKE 'C%'\n",
    "GROUP BY month\n",
    "ORDER BY revenue DESC;\n"
   ]
  },
  {
   "cell_type": "code",
   "execution_count": 31,
   "id": "b1e28817",
   "metadata": {},
   "outputs": [
    {
     "data": {
      "text/html": [
       "<table><thead><tr><th style=\"text-align: left\">month</th><th style=\"text-align: left\">aov</th><th style=\"text-align: left\">units_per_order</th></tr></thead><tbody><tr><td style=\"text-align: left\">2011-12</td><td style=\"text-align: right\">779.97</td><td style=\"text-align: right\">383.7</td></tr><tr><td style=\"text-align: left\">2011-01</td><td style=\"text-align: right\">636.62</td><td style=\"text-align: right\">357.08</td></tr><tr><td style=\"text-align: left\">2011-09</td><td style=\"text-align: right\">576.26</td><td style=\"text-align: right\">310.73</td></tr><tr><td style=\"text-align: left\">2011-10</td><td style=\"text-align: right\">566.17</td><td style=\"text-align: right\">305.59</td></tr><tr><td style=\"text-align: left\">2011-08</td><td style=\"text-align: right\">557.78</td><td style=\"text-align: right\">309.9</td></tr><tr><td style=\"text-align: left\">2011-11</td><td style=\"text-align: right\">545.14</td><td style=\"text-align: right\">272.48</td></tr><tr><td style=\"text-align: left\">2010-12</td><td style=\"text-align: right\">528.38</td><td style=\"text-align: right\">230.43</td></tr><tr><td style=\"text-align: left\">2011-06</td><td style=\"text-align: right\">496.89</td><td style=\"text-align: right\">253.89</td></tr><tr><td style=\"text-align: left\">2011-03</td><td style=\"text-align: right\">493.56</td><td style=\"text-align: right\">259.65</td></tr><tr><td style=\"text-align: left\">2011-07</td><td style=\"text-align: right\">487.61</td><td style=\"text-align: right\">272.38</td></tr><tr><td style=\"text-align: left\">2011-02</td><td style=\"text-align: right\">476.03</td><td style=\"text-align: right\">257.78</td></tr><tr><td style=\"text-align: left\">2011-05</td><td style=\"text-align: right\">458.38</td><td style=\"text-align: right\">235.42</td></tr><tr><td style=\"text-align: left\">2011-04</td><td style=\"text-align: right\">431.63</td><td style=\"text-align: right\">247.85</td></tr></tbody></table>"
      ],
      "text/plain": [
       "<IPython.core.display.HTML object>"
      ]
     },
     "execution_count": 31,
     "metadata": {},
     "output_type": "execute_result"
    }
   ],
   "source": [
    "%%sql\n",
    "WITH orders AS (\n",
    "  SELECT InvoiceNo,\n",
    "         MIN(InvoiceDate) AS order_ts,\n",
    "         SUM(Quantity * UnitPrice) AS order_value,\n",
    "         SUM(Quantity) AS units\n",
    "  FROM retail\n",
    "  WHERE Quantity > 0 AND UnitPrice > 0 AND InvoiceNo NOT LIKE 'C%'\n",
    "  GROUP BY InvoiceNo\n",
    ")\n",
    "SELECT strftime('%Y-%m', order_ts) AS month,\n",
    "       ROUND(AVG(order_value), 2) AS aov,\n",
    "       ROUND(AVG(units), 2) AS units_per_order\n",
    "FROM orders\n",
    "GROUP BY month\n",
    "ORDER BY aov DESC;\n"
   ]
  },
  {
   "cell_type": "code",
   "execution_count": 8,
   "id": "438148e8",
   "metadata": {},
   "outputs": [
    {
     "data": {
      "text/html": [
       "<table><thead><tr><th style=\"text-align: left\">Description</th><th style=\"text-align: left\">revenue</th><th style=\"text-align: left\">units</th></tr></thead><tbody><tr><td style=\"text-align: left\">DOTCOM POSTAGE</td><td style=\"text-align: right\">206248.77</td><td style=\"text-align: right\">706</td></tr><tr><td style=\"text-align: left\">REGENCY CAKESTAND 3 TIER</td><td style=\"text-align: right\">174484.74</td><td style=\"text-align: right\">13879</td></tr><tr><td style=\"text-align: left\">PAPER CRAFT , LITTLE BIRDIE</td><td style=\"text-align: right\">168469.6</td><td style=\"text-align: right\">80995</td></tr><tr><td style=\"text-align: left\">WHITE HANGING HEART T-LIGHT HOLDER</td><td style=\"text-align: right\">106292.77</td><td style=\"text-align: right\">37891</td></tr><tr><td style=\"text-align: left\">PARTY BUNTING</td><td style=\"text-align: right\">99504.33</td><td style=\"text-align: right\">18295</td></tr><tr><td style=\"text-align: left\">JUMBO BAG RED RETROSPOT</td><td style=\"text-align: right\">94340.05</td><td style=\"text-align: right\">48474</td></tr><tr><td style=\"text-align: left\">MEDIUM CERAMIC TOP STORAGE JAR</td><td style=\"text-align: right\">81700.92</td><td style=\"text-align: right\">78033</td></tr><tr><td style=\"text-align: left\">Manual</td><td style=\"text-align: right\">78112.82</td><td style=\"text-align: right\">7225</td></tr><tr><td style=\"text-align: left\">POSTAGE</td><td style=\"text-align: right\">78101.88</td><td style=\"text-align: right\">3150</td></tr><tr><td style=\"text-align: left\">RABBIT NIGHT LIGHT</td><td style=\"text-align: right\">66964.99</td><td style=\"text-align: right\">30788</td></tr><tr><td style=\"text-align: left\">PAPER CHAIN KIT 50&#x27;S CHRISTMAS </td><td style=\"text-align: right\">64952.29</td><td style=\"text-align: right\">19355</td></tr><tr><td style=\"text-align: left\">ASSORTED COLOUR BIRD ORNAMENT</td><td style=\"text-align: right\">59094.93</td><td style=\"text-align: right\">36461</td></tr><tr><td style=\"text-align: left\">CHILLI LIGHTS</td><td style=\"text-align: right\">54117.76</td><td style=\"text-align: right\">10306</td></tr><tr><td style=\"text-align: left\">SPOTTY BUNTING</td><td style=\"text-align: right\">42548.13</td><td style=\"text-align: right\">8327</td></tr><tr><td style=\"text-align: left\">JUMBO BAG PINK POLKADOT</td><td style=\"text-align: right\">42436.24</td><td style=\"text-align: right\">21465</td></tr><tr><td style=\"text-align: left\">BLACK RECORD COVER FRAME</td><td style=\"text-align: right\">40652.13</td><td style=\"text-align: right\">11656</td></tr><tr><td style=\"text-align: left\">PICNIC BASKET WICKER 60 PIECES</td><td style=\"text-align: right\">39619.5</td><td style=\"text-align: right\">61</td></tr><tr><td style=\"text-align: left\">DOORMAT KEEP CALM AND COME IN</td><td style=\"text-align: right\">38166.64</td><td style=\"text-align: right\">5491</td></tr><tr><td style=\"text-align: left\">SET OF 3 CAKE TINS PANTRY DESIGN </td><td style=\"text-align: right\">38158.39</td><td style=\"text-align: right\">7493</td></tr><tr><td style=\"text-align: left\">JAM MAKING SET WITH JARS</td><td style=\"text-align: right\">37128.88</td><td style=\"text-align: right\">8706</td></tr></tbody></table>"
      ],
      "text/plain": [
       "<IPython.core.display.HTML object>"
      ]
     },
     "execution_count": 8,
     "metadata": {},
     "output_type": "execute_result"
    }
   ],
   "source": [
    "%%sql\n",
    "SELECT Description,\n",
    "       ROUND(SUM(Quantity * UnitPrice), 2) AS revenue,\n",
    "       SUM(Quantity) AS units\n",
    "FROM retail\n",
    "WHERE Quantity > 0 AND UnitPrice > 0 AND InvoiceNo NOT LIKE 'C%'\n",
    "GROUP BY Description\n",
    "ORDER BY revenue DESC\n",
    "LIMIT 20;\n"
   ]
  },
  {
   "cell_type": "code",
   "execution_count": 9,
   "id": "3bd6b931",
   "metadata": {},
   "outputs": [
    {
     "data": {
      "text/html": [
       "<table><thead><tr><th style=\"text-align: left\">Description</th><th style=\"text-align: left\">units</th><th style=\"text-align: left\">revenue</th></tr></thead><tbody><tr><td style=\"text-align: left\">PAPER CRAFT , LITTLE BIRDIE</td><td style=\"text-align: right\">80995</td><td style=\"text-align: right\">168469.6</td></tr><tr><td style=\"text-align: left\">MEDIUM CERAMIC TOP STORAGE JAR</td><td style=\"text-align: right\">78033</td><td style=\"text-align: right\">81700.92</td></tr><tr><td style=\"text-align: left\">WORLD WAR 2 GLIDERS ASSTD DESIGNS</td><td style=\"text-align: right\">55047</td><td style=\"text-align: right\">13841.85</td></tr><tr><td style=\"text-align: left\">JUMBO BAG RED RETROSPOT</td><td style=\"text-align: right\">48474</td><td style=\"text-align: right\">94340.05</td></tr><tr><td style=\"text-align: left\">WHITE HANGING HEART T-LIGHT HOLDER</td><td style=\"text-align: right\">37891</td><td style=\"text-align: right\">106292.77</td></tr><tr><td style=\"text-align: left\">POPCORN HOLDER</td><td style=\"text-align: right\">36761</td><td style=\"text-align: right\">34298.87</td></tr><tr><td style=\"text-align: left\">ASSORTED COLOUR BIRD ORNAMENT</td><td style=\"text-align: right\">36461</td><td style=\"text-align: right\">59094.93</td></tr><tr><td style=\"text-align: left\">PACK OF 72 RETROSPOT CAKE CASES</td><td style=\"text-align: right\">36419</td><td style=\"text-align: right\">21259.1</td></tr><tr><td style=\"text-align: left\">RABBIT NIGHT LIGHT</td><td style=\"text-align: right\">30788</td><td style=\"text-align: right\">66964.99</td></tr><tr><td style=\"text-align: left\">MINI PAINT SET VINTAGE </td><td style=\"text-align: right\">26633</td><td style=\"text-align: right\">16937.82</td></tr><tr><td style=\"text-align: left\">PACK OF 12 LONDON TISSUES </td><td style=\"text-align: right\">26135</td><td style=\"text-align: right\">7980.92</td></tr><tr><td style=\"text-align: left\">PACK OF 60 PINK PAISLEY CAKE CASES</td><td style=\"text-align: right\">24854</td><td style=\"text-align: right\">12245.02</td></tr><tr><td style=\"text-align: left\">VICTORIAN GLASS HANGING T-LIGHT</td><td style=\"text-align: right\">24304</td><td style=\"text-align: right\">33187.97</td></tr><tr><td style=\"text-align: left\">ASSORTED COLOURS SILK FAN</td><td style=\"text-align: right\">23826</td><td style=\"text-align: right\">18569.84</td></tr><tr><td style=\"text-align: left\">BROCADE RING PURSE </td><td style=\"text-align: right\">23056</td><td style=\"text-align: right\">6036.39</td></tr><tr><td style=\"text-align: left\">RED  HARMONICA IN BOX </td><td style=\"text-align: right\">21933</td><td style=\"text-align: right\">26331.58</td></tr><tr><td style=\"text-align: left\">JUMBO BAG PINK POLKADOT</td><td style=\"text-align: right\">21465</td><td style=\"text-align: right\">42436.24</td></tr><tr><td style=\"text-align: left\">SMALL POPCORN HOLDER</td><td style=\"text-align: right\">20160</td><td style=\"text-align: right\">17055.15</td></tr><tr><td style=\"text-align: left\">PAPER CHAIN KIT 50&#x27;S CHRISTMAS </td><td style=\"text-align: right\">19355</td><td style=\"text-align: right\">64952.29</td></tr><tr><td style=\"text-align: left\">LUNCH BAG RED RETROSPOT</td><td style=\"text-align: right\">19353</td><td style=\"text-align: right\">35752.01</td></tr></tbody></table>"
      ],
      "text/plain": [
       "<IPython.core.display.HTML object>"
      ]
     },
     "execution_count": 9,
     "metadata": {},
     "output_type": "execute_result"
    }
   ],
   "source": [
    "%%sql\n",
    "SELECT Description,\n",
    "       SUM(Quantity) AS units,\n",
    "       ROUND(SUM(Quantity * UnitPrice), 2) AS revenue\n",
    "FROM retail\n",
    "WHERE Quantity > 0 AND UnitPrice > 0 AND InvoiceNo NOT LIKE 'C%'\n",
    "GROUP BY Description\n",
    "ORDER BY units DESC\n",
    "LIMIT 20;\n"
   ]
  },
  {
   "cell_type": "code",
   "execution_count": 10,
   "id": "be7a2d3d",
   "metadata": {},
   "outputs": [
    {
     "data": {
      "text/html": [
       "<table><thead><tr><th style=\"text-align: left\">Country</th><th style=\"text-align: left\">revenue</th><th style=\"text-align: left\">orders</th></tr></thead><tbody><tr><td style=\"text-align: left\">United Kingdom</td><td style=\"text-align: right\">9025222.08</td><td style=\"text-align: right\">18019</td></tr><tr><td style=\"text-align: left\">Netherlands</td><td style=\"text-align: right\">285446.34</td><td style=\"text-align: right\">94</td></tr><tr><td style=\"text-align: left\">EIRE</td><td style=\"text-align: right\">283453.96</td><td style=\"text-align: right\">288</td></tr><tr><td style=\"text-align: left\">Germany</td><td style=\"text-align: right\">228867.14</td><td style=\"text-align: right\">457</td></tr><tr><td style=\"text-align: left\">France</td><td style=\"text-align: right\">209715.11</td><td style=\"text-align: right\">392</td></tr><tr><td style=\"text-align: left\">Australia</td><td style=\"text-align: right\">138521.31</td><td style=\"text-align: right\">57</td></tr><tr><td style=\"text-align: left\">Spain</td><td style=\"text-align: right\">61577.11</td><td style=\"text-align: right\">90</td></tr><tr><td style=\"text-align: left\">Switzerland</td><td style=\"text-align: right\">57089.9</td><td style=\"text-align: right\">54</td></tr><tr><td style=\"text-align: left\">Belgium</td><td style=\"text-align: right\">41196.34</td><td style=\"text-align: right\">98</td></tr><tr><td style=\"text-align: left\">Sweden</td><td style=\"text-align: right\">38378.33</td><td style=\"text-align: right\">36</td></tr><tr><td style=\"text-align: left\">Japan</td><td style=\"text-align: right\">37416.37</td><td style=\"text-align: right\">19</td></tr><tr><td style=\"text-align: left\">Norway</td><td style=\"text-align: right\">36165.44</td><td style=\"text-align: right\">36</td></tr><tr><td style=\"text-align: left\">Portugal</td><td style=\"text-align: right\">33747.1</td><td style=\"text-align: right\">58</td></tr><tr><td style=\"text-align: left\">Finland</td><td style=\"text-align: right\">22546.08</td><td style=\"text-align: right\">41</td></tr><tr><td style=\"text-align: left\">Singapore</td><td style=\"text-align: right\">21279.29</td><td style=\"text-align: right\">7</td></tr><tr><td style=\"text-align: left\">Channel Islands</td><td style=\"text-align: right\">20450.44</td><td style=\"text-align: right\">26</td></tr><tr><td style=\"text-align: left\">Denmark</td><td style=\"text-align: right\">18955.34</td><td style=\"text-align: right\">18</td></tr><tr><td style=\"text-align: left\">Italy</td><td style=\"text-align: right\">17483.24</td><td style=\"text-align: right\">38</td></tr><tr><td style=\"text-align: left\">Hong Kong</td><td style=\"text-align: right\">15691.8</td><td style=\"text-align: right\">11</td></tr><tr><td style=\"text-align: left\">Cyprus</td><td style=\"text-align: right\">13590.38</td><td style=\"text-align: right\">16</td></tr><tr><td style=\"text-align: left\">Austria</td><td style=\"text-align: right\">10198.68</td><td style=\"text-align: right\">17</td></tr><tr><td style=\"text-align: left\">Israel</td><td style=\"text-align: right\">8135.26</td><td style=\"text-align: right\">8</td></tr><tr><td style=\"text-align: left\">Poland</td><td style=\"text-align: right\">7334.65</td><td style=\"text-align: right\">19</td></tr><tr><td style=\"text-align: left\">Greece</td><td style=\"text-align: right\">4760.52</td><td style=\"text-align: right\">5</td></tr><tr><td style=\"text-align: left\">Unspecified</td><td style=\"text-align: right\">4749.79</td><td style=\"text-align: right\">13</td></tr><tr><td style=\"text-align: left\">Iceland</td><td style=\"text-align: right\">4310.0</td><td style=\"text-align: right\">7</td></tr><tr><td style=\"text-align: left\">Canada</td><td style=\"text-align: right\">3666.38</td><td style=\"text-align: right\">6</td></tr><tr><td style=\"text-align: left\">USA</td><td style=\"text-align: right\">3580.39</td><td style=\"text-align: right\">5</td></tr><tr><td style=\"text-align: left\">Malta</td><td style=\"text-align: right\">2725.59</td><td style=\"text-align: right\">5</td></tr><tr><td style=\"text-align: left\">United Arab Emirates</td><td style=\"text-align: right\">1902.28</td><td style=\"text-align: right\">3</td></tr><tr><td style=\"text-align: left\">Lebanon</td><td style=\"text-align: right\">1693.88</td><td style=\"text-align: right\">1</td></tr><tr><td style=\"text-align: left\">Lithuania</td><td style=\"text-align: right\">1661.06</td><td style=\"text-align: right\">4</td></tr><tr><td style=\"text-align: left\">European Community</td><td style=\"text-align: right\">1300.25</td><td style=\"text-align: right\">4</td></tr><tr><td style=\"text-align: left\">Brazil</td><td style=\"text-align: right\">1143.6</td><td style=\"text-align: right\">1</td></tr><tr><td style=\"text-align: left\">RSA</td><td style=\"text-align: right\">1002.31</td><td style=\"text-align: right\">1</td></tr><tr><td style=\"text-align: left\">Czech Republic</td><td style=\"text-align: right\">826.74</td><td style=\"text-align: right\">2</td></tr><tr><td style=\"text-align: left\">Bahrain</td><td style=\"text-align: right\">754.14</td><td style=\"text-align: right\">3</td></tr><tr><td style=\"text-align: left\">Saudi Arabia</td><td style=\"text-align: right\">145.92</td><td style=\"text-align: right\">1</td></tr></tbody></table>"
      ],
      "text/plain": [
       "<IPython.core.display.HTML object>"
      ]
     },
     "execution_count": 10,
     "metadata": {},
     "output_type": "execute_result"
    }
   ],
   "source": [
    "%%sql\n",
    "SELECT Country,\n",
    "       ROUND(SUM(Quantity * UnitPrice), 2) AS revenue,\n",
    "       COUNT(DISTINCT InvoiceNo) AS orders\n",
    "FROM retail\n",
    "WHERE Quantity > 0 AND UnitPrice > 0 AND InvoiceNo NOT LIKE 'C%'\n",
    "GROUP BY Country\n",
    "ORDER BY revenue DESC;\n"
   ]
  },
  {
   "cell_type": "code",
   "execution_count": 11,
   "id": "ff283dfd",
   "metadata": {},
   "outputs": [
    {
     "name": "stdout",
     "output_type": "stream",
     "text": [
      "Done!\n"
     ]
    }
   ],
   "source": [
    "%%sql\n",
    "CREATE VIEW IF NOT EXISTS v_sales_clean AS\n",
    "SELECT *\n",
    "FROM retail\n",
    "WHERE Quantity > 0 AND UnitPrice > 0 AND InvoiceNo NOT LIKE 'C%';\n"
   ]
  },
  {
   "cell_type": "code",
   "execution_count": 12,
   "id": "5c6ec43e",
   "metadata": {},
   "outputs": [
    {
     "data": {
      "text/html": [
       "<table><thead><tr><th style=\"text-align: left\">month</th><th style=\"text-align: left\">revenue</th></tr></thead><tbody><tr><td style=\"text-align: left\">2010-12</td><td style=\"text-align: right\">823746.14</td></tr><tr><td style=\"text-align: left\">2011-01</td><td style=\"text-align: right\">691364.56</td></tr><tr><td style=\"text-align: left\">2011-02</td><td style=\"text-align: right\">523631.89</td></tr><tr><td style=\"text-align: left\">2011-03</td><td style=\"text-align: right\">717639.36</td></tr><tr><td style=\"text-align: left\">2011-04</td><td style=\"text-align: right\">537808.62</td></tr><tr><td style=\"text-align: left\">2011-05</td><td style=\"text-align: right\">770536.02</td></tr><tr><td style=\"text-align: left\">2011-06</td><td style=\"text-align: right\">761739.9</td></tr><tr><td style=\"text-align: left\">2011-07</td><td style=\"text-align: right\">719221.19</td></tr><tr><td style=\"text-align: left\">2011-08</td><td style=\"text-align: right\">759138.38</td></tr><tr><td style=\"text-align: left\">2011-09</td><td style=\"text-align: right\">1058590.17</td></tr><tr><td style=\"text-align: left\">2011-10</td><td style=\"text-align: right\">1154979.3</td></tr><tr><td style=\"text-align: left\">2011-11</td><td style=\"text-align: right\">1509496.33</td></tr><tr><td style=\"text-align: left\">2011-12</td><td style=\"text-align: right\">638792.68</td></tr></tbody></table>"
      ],
      "text/plain": [
       "<IPython.core.display.HTML object>"
      ]
     },
     "execution_count": 12,
     "metadata": {},
     "output_type": "execute_result"
    }
   ],
   "source": [
    "%%sql\n",
    "SELECT strftime('%Y-%m', InvoiceDate) AS month,\n",
    "       ROUND(SUM(Quantity * UnitPrice), 2) AS revenue\n",
    "FROM v_sales_clean\n",
    "GROUP BY month\n",
    "ORDER BY month;\n"
   ]
  },
  {
   "cell_type": "markdown",
   "id": "2c874a50",
   "metadata": {},
   "source": [
    "# Part 2"
   ]
  },
  {
   "cell_type": "code",
   "execution_count": 13,
   "id": "4bb16a63",
   "metadata": {},
   "outputs": [
    {
     "data": {
      "text/html": [
       "<table><thead><tr><th style=\"text-align: left\">CustomerID</th><th style=\"text-align: left\">cohort_month</th></tr></thead><tbody><tr><td style=\"text-align: right\">12346.0</td><td style=\"text-align: left\">2011-01</td></tr><tr><td style=\"text-align: right\">12347.0</td><td style=\"text-align: left\">2010-12</td></tr><tr><td style=\"text-align: right\">12348.0</td><td style=\"text-align: left\">2010-12</td></tr><tr><td style=\"text-align: right\">12349.0</td><td style=\"text-align: left\">2011-11</td></tr><tr><td style=\"text-align: right\">12350.0</td><td style=\"text-align: left\">2011-02</td></tr><tr><td style=\"text-align: right\">12352.0</td><td style=\"text-align: left\">2011-02</td></tr><tr><td style=\"text-align: right\">12353.0</td><td style=\"text-align: left\">2011-05</td></tr><tr><td style=\"text-align: right\">12354.0</td><td style=\"text-align: left\">2011-04</td></tr><tr><td style=\"text-align: right\">12355.0</td><td style=\"text-align: left\">2011-05</td></tr><tr><td style=\"text-align: right\">12356.0</td><td style=\"text-align: left\">2011-01</td></tr></tbody></table>"
      ],
      "text/plain": [
       "<IPython.core.display.HTML object>"
      ]
     },
     "execution_count": 13,
     "metadata": {},
     "output_type": "execute_result"
    }
   ],
   "source": [
    "%%sql\n",
    "WITH first_orders AS (\n",
    "  SELECT\n",
    "    CustomerID,\n",
    "    MIN(InvoiceDate) AS first_order\n",
    "  FROM v_sales_clean\n",
    "  WHERE CustomerID IS NOT NULL\n",
    "  GROUP BY CustomerID\n",
    ")\n",
    "SELECT\n",
    "  CustomerID,\n",
    "  strftime('%Y-%m', first_order) AS cohort_month\n",
    "FROM first_orders\n",
    "LIMIT 10;\n",
    "\n"
   ]
  },
  {
   "cell_type": "code",
   "execution_count": 14,
   "id": "914bd066",
   "metadata": {},
   "outputs": [
    {
     "data": {
      "text/html": [
       "<table><thead><tr><th style=\"text-align: left\">CustomerID</th><th style=\"text-align: left\">cohort_month</th><th style=\"text-align: left\">order_month</th></tr></thead><tbody><tr><td style=\"text-align: right\">17850.0</td><td style=\"text-align: left\">2010-12</td><td style=\"text-align: left\">2010-12</td></tr><tr><td style=\"text-align: right\">17850.0</td><td style=\"text-align: left\">2010-12</td><td style=\"text-align: left\">2010-12</td></tr><tr><td style=\"text-align: right\">17850.0</td><td style=\"text-align: left\">2010-12</td><td style=\"text-align: left\">2010-12</td></tr><tr><td style=\"text-align: right\">17850.0</td><td style=\"text-align: left\">2010-12</td><td style=\"text-align: left\">2010-12</td></tr><tr><td style=\"text-align: right\">17850.0</td><td style=\"text-align: left\">2010-12</td><td style=\"text-align: left\">2010-12</td></tr><tr><td style=\"text-align: right\">17850.0</td><td style=\"text-align: left\">2010-12</td><td style=\"text-align: left\">2010-12</td></tr><tr><td style=\"text-align: right\">17850.0</td><td style=\"text-align: left\">2010-12</td><td style=\"text-align: left\">2010-12</td></tr><tr><td style=\"text-align: right\">17850.0</td><td style=\"text-align: left\">2010-12</td><td style=\"text-align: left\">2010-12</td></tr><tr><td style=\"text-align: right\">17850.0</td><td style=\"text-align: left\">2010-12</td><td style=\"text-align: left\">2010-12</td></tr><tr><td style=\"text-align: right\">13047.0</td><td style=\"text-align: left\">2010-12</td><td style=\"text-align: left\">2010-12</td></tr></tbody></table>"
      ],
      "text/plain": [
       "<IPython.core.display.HTML object>"
      ]
     },
     "execution_count": 14,
     "metadata": {},
     "output_type": "execute_result"
    }
   ],
   "source": [
    "%%sql\n",
    "WITH first_orders AS (\n",
    "  SELECT\n",
    "    CustomerID,\n",
    "    MIN(InvoiceDate) AS first_order\n",
    "  FROM v_sales_clean\n",
    "  WHERE CustomerID IS NOT NULL\n",
    "  GROUP BY CustomerID\n",
    "),\n",
    "orders AS (\n",
    "  SELECT\n",
    "    r.CustomerID,\n",
    "    strftime('%Y-%m', f.first_order) AS cohort_month,\n",
    "    strftime('%Y-%m', r.InvoiceDate) AS order_month\n",
    "  FROM v_sales_clean r\n",
    "  JOIN first_orders f USING (CustomerID)\n",
    "  WHERE r.CustomerID IS NOT NULL\n",
    ")\n",
    "SELECT *\n",
    "FROM orders\n",
    "LIMIT 10;\n",
    "\n"
   ]
  },
  {
   "cell_type": "code",
   "execution_count": 15,
   "id": "759d37ef",
   "metadata": {},
   "outputs": [
    {
     "data": {
      "text/html": [
       "<table><thead><tr><th style=\"text-align: left\">CustomerID</th><th style=\"text-align: left\">cohort_month</th><th style=\"text-align: left\">order_month</th><th style=\"text-align: left\">month_offset</th></tr></thead><tbody><tr><td style=\"text-align: right\">17850.0</td><td style=\"text-align: left\">2010-12</td><td style=\"text-align: left\">2010-12</td><td style=\"text-align: right\">0</td></tr><tr><td style=\"text-align: right\">17850.0</td><td style=\"text-align: left\">2010-12</td><td style=\"text-align: left\">2010-12</td><td style=\"text-align: right\">0</td></tr><tr><td style=\"text-align: right\">17850.0</td><td style=\"text-align: left\">2010-12</td><td style=\"text-align: left\">2010-12</td><td style=\"text-align: right\">0</td></tr><tr><td style=\"text-align: right\">17850.0</td><td style=\"text-align: left\">2010-12</td><td style=\"text-align: left\">2010-12</td><td style=\"text-align: right\">0</td></tr><tr><td style=\"text-align: right\">17850.0</td><td style=\"text-align: left\">2010-12</td><td style=\"text-align: left\">2010-12</td><td style=\"text-align: right\">0</td></tr><tr><td style=\"text-align: right\">17850.0</td><td style=\"text-align: left\">2010-12</td><td style=\"text-align: left\">2010-12</td><td style=\"text-align: right\">0</td></tr><tr><td style=\"text-align: right\">17850.0</td><td style=\"text-align: left\">2010-12</td><td style=\"text-align: left\">2010-12</td><td style=\"text-align: right\">0</td></tr><tr><td style=\"text-align: right\">17850.0</td><td style=\"text-align: left\">2010-12</td><td style=\"text-align: left\">2010-12</td><td style=\"text-align: right\">0</td></tr><tr><td style=\"text-align: right\">17850.0</td><td style=\"text-align: left\">2010-12</td><td style=\"text-align: left\">2010-12</td><td style=\"text-align: right\">0</td></tr><tr><td style=\"text-align: right\">13047.0</td><td style=\"text-align: left\">2010-12</td><td style=\"text-align: left\">2010-12</td><td style=\"text-align: right\">0</td></tr></tbody></table>"
      ],
      "text/plain": [
       "<IPython.core.display.HTML object>"
      ]
     },
     "execution_count": 15,
     "metadata": {},
     "output_type": "execute_result"
    }
   ],
   "source": [
    "%%sql\n",
    "WITH first_orders AS (\n",
    "  SELECT\n",
    "    CustomerID,\n",
    "    MIN(InvoiceDate) AS first_order\n",
    "  FROM v_sales_clean\n",
    "  WHERE CustomerID IS NOT NULL\n",
    "  GROUP BY CustomerID\n",
    "),\n",
    "orders AS (\n",
    "  SELECT\n",
    "    r.CustomerID,\n",
    "    strftime('%Y-%m', f.first_order) AS cohort_month,\n",
    "    strftime('%Y-%m', r.InvoiceDate) AS order_month,\n",
    "    CAST((julianday(r.InvoiceDate) - julianday(f.first_order)) / 30 AS INT) AS month_offset\n",
    "  FROM v_sales_clean r\n",
    "  JOIN first_orders f USING (CustomerID)\n",
    "  WHERE r.CustomerID IS NOT NULL\n",
    ")\n",
    "SELECT *\n",
    "FROM orders\n",
    "LIMIT 10;\n"
   ]
  },
  {
   "cell_type": "code",
   "execution_count": 16,
   "id": "18557254",
   "metadata": {},
   "outputs": [
    {
     "data": {
      "text/html": [
       "<table><thead><tr><th style=\"text-align: left\">cohort_month</th><th style=\"text-align: left\">month_offset</th><th style=\"text-align: left\">active_customers</th><th style=\"text-align: left\">cohort_size</th><th style=\"text-align: left\">retention_pct</th></tr></thead><tbody><tr><td style=\"text-align: left\">2010-12</td><td style=\"text-align: right\">0</td><td style=\"text-align: right\">885</td><td style=\"text-align: right\">885</td><td style=\"text-align: right\">100.0</td></tr><tr><td style=\"text-align: left\">2010-12</td><td style=\"text-align: right\">1</td><td style=\"text-align: right\">324</td><td style=\"text-align: right\">885</td><td style=\"text-align: right\">36.61</td></tr><tr><td style=\"text-align: left\">2010-12</td><td style=\"text-align: right\">2</td><td style=\"text-align: right\">307</td><td style=\"text-align: right\">885</td><td style=\"text-align: right\">34.69</td></tr><tr><td style=\"text-align: left\">2010-12</td><td style=\"text-align: right\">3</td><td style=\"text-align: right\">339</td><td style=\"text-align: right\">885</td><td style=\"text-align: right\">38.31</td></tr><tr><td style=\"text-align: left\">2010-12</td><td style=\"text-align: right\">4</td><td style=\"text-align: right\">304</td><td style=\"text-align: right\">885</td><td style=\"text-align: right\">34.35</td></tr><tr><td style=\"text-align: left\">2010-12</td><td style=\"text-align: right\">5</td><td style=\"text-align: right\">338</td><td style=\"text-align: right\">885</td><td style=\"text-align: right\">38.19</td></tr><tr><td style=\"text-align: left\">2010-12</td><td style=\"text-align: right\">6</td><td style=\"text-align: right\">325</td><td style=\"text-align: right\">885</td><td style=\"text-align: right\">36.72</td></tr><tr><td style=\"text-align: left\">2011-01</td><td style=\"text-align: right\">0</td><td style=\"text-align: right\">417</td><td style=\"text-align: right\">417</td><td style=\"text-align: right\">100.0</td></tr><tr><td style=\"text-align: left\">2011-01</td><td style=\"text-align: right\">1</td><td style=\"text-align: right\">103</td><td style=\"text-align: right\">417</td><td style=\"text-align: right\">24.7</td></tr><tr><td style=\"text-align: left\">2011-01</td><td style=\"text-align: right\">2</td><td style=\"text-align: right\">116</td><td style=\"text-align: right\">417</td><td style=\"text-align: right\">27.82</td></tr><tr><td style=\"text-align: left\">2011-01</td><td style=\"text-align: right\">3</td><td style=\"text-align: right\">117</td><td style=\"text-align: right\">417</td><td style=\"text-align: right\">28.06</td></tr><tr><td style=\"text-align: left\">2011-01</td><td style=\"text-align: right\">4</td><td style=\"text-align: right\">112</td><td style=\"text-align: right\">417</td><td style=\"text-align: right\">26.86</td></tr><tr><td style=\"text-align: left\">2011-01</td><td style=\"text-align: right\">5</td><td style=\"text-align: right\">118</td><td style=\"text-align: right\">417</td><td style=\"text-align: right\">28.3</td></tr><tr><td style=\"text-align: left\">2011-01</td><td style=\"text-align: right\">6</td><td style=\"text-align: right\">98</td><td style=\"text-align: right\">417</td><td style=\"text-align: right\">23.5</td></tr><tr><td style=\"text-align: left\">2011-02</td><td style=\"text-align: right\">0</td><td style=\"text-align: right\">380</td><td style=\"text-align: right\">380</td><td style=\"text-align: right\">100.0</td></tr><tr><td style=\"text-align: left\">2011-02</td><td style=\"text-align: right\">1</td><td style=\"text-align: right\">81</td><td style=\"text-align: right\">380</td><td style=\"text-align: right\">21.32</td></tr><tr><td style=\"text-align: left\">2011-02</td><td style=\"text-align: right\">2</td><td style=\"text-align: right\">92</td><td style=\"text-align: right\">380</td><td style=\"text-align: right\">24.21</td></tr><tr><td style=\"text-align: left\">2011-02</td><td style=\"text-align: right\">3</td><td style=\"text-align: right\">106</td><td style=\"text-align: right\">380</td><td style=\"text-align: right\">27.89</td></tr><tr><td style=\"text-align: left\">2011-02</td><td style=\"text-align: right\">4</td><td style=\"text-align: right\">81</td><td style=\"text-align: right\">380</td><td style=\"text-align: right\">21.32</td></tr><tr><td style=\"text-align: left\">2011-02</td><td style=\"text-align: right\">5</td><td style=\"text-align: right\">99</td><td style=\"text-align: right\">380</td><td style=\"text-align: right\">26.05</td></tr><tr><td style=\"text-align: left\">2011-02</td><td style=\"text-align: right\">6</td><td style=\"text-align: right\">94</td><td style=\"text-align: right\">380</td><td style=\"text-align: right\">24.74</td></tr><tr><td style=\"text-align: left\">2011-03</td><td style=\"text-align: right\">0</td><td style=\"text-align: right\">452</td><td style=\"text-align: right\">452</td><td style=\"text-align: right\">100.0</td></tr><tr><td style=\"text-align: left\">2011-03</td><td style=\"text-align: right\">1</td><td style=\"text-align: right\">81</td><td style=\"text-align: right\">452</td><td style=\"text-align: right\">17.92</td></tr><tr><td style=\"text-align: left\">2011-03</td><td style=\"text-align: right\">2</td><td style=\"text-align: right\">105</td><td style=\"text-align: right\">452</td><td style=\"text-align: right\">23.23</td></tr><tr><td style=\"text-align: left\">2011-03</td><td style=\"text-align: right\">3</td><td style=\"text-align: right\">98</td><td style=\"text-align: right\">452</td><td style=\"text-align: right\">21.68</td></tr><tr><td style=\"text-align: left\">2011-03</td><td style=\"text-align: right\">4</td><td style=\"text-align: right\">86</td><td style=\"text-align: right\">452</td><td style=\"text-align: right\">19.03</td></tr><tr><td style=\"text-align: left\">2011-03</td><td style=\"text-align: right\">5</td><td style=\"text-align: right\">85</td><td style=\"text-align: right\">452</td><td style=\"text-align: right\">18.81</td></tr><tr><td style=\"text-align: left\">2011-03</td><td style=\"text-align: right\">6</td><td style=\"text-align: right\">114</td><td style=\"text-align: right\">452</td><td style=\"text-align: right\">25.22</td></tr><tr><td style=\"text-align: left\">2011-04</td><td style=\"text-align: right\">0</td><td style=\"text-align: right\">300</td><td style=\"text-align: right\">300</td><td style=\"text-align: right\">100.0</td></tr><tr><td style=\"text-align: left\">2011-04</td><td style=\"text-align: right\">1</td><td style=\"text-align: right\">75</td><td style=\"text-align: right\">300</td><td style=\"text-align: right\">25.0</td></tr><tr><td style=\"text-align: left\">2011-04</td><td style=\"text-align: right\">2</td><td style=\"text-align: right\">50</td><td style=\"text-align: right\">300</td><td style=\"text-align: right\">16.67</td></tr><tr><td style=\"text-align: left\">2011-04</td><td style=\"text-align: right\">3</td><td style=\"text-align: right\">66</td><td style=\"text-align: right\">300</td><td style=\"text-align: right\">22.0</td></tr><tr><td style=\"text-align: left\">2011-04</td><td style=\"text-align: right\">4</td><td style=\"text-align: right\">52</td><td style=\"text-align: right\">300</td><td style=\"text-align: right\">17.33</td></tr><tr><td style=\"text-align: left\">2011-04</td><td style=\"text-align: right\">5</td><td style=\"text-align: right\">64</td><td style=\"text-align: right\">300</td><td style=\"text-align: right\">21.33</td></tr><tr><td style=\"text-align: left\">2011-04</td><td style=\"text-align: right\">6</td><td style=\"text-align: right\">72</td><td style=\"text-align: right\">300</td><td style=\"text-align: right\">24.0</td></tr><tr><td style=\"text-align: left\">2011-05</td><td style=\"text-align: right\">0</td><td style=\"text-align: right\">284</td><td style=\"text-align: right\">284</td><td style=\"text-align: right\">100.0</td></tr><tr><td style=\"text-align: left\">2011-05</td><td style=\"text-align: right\">1</td><td style=\"text-align: right\">56</td><td style=\"text-align: right\">284</td><td style=\"text-align: right\">19.72</td></tr><tr><td style=\"text-align: left\">2011-05</td><td style=\"text-align: right\">2</td><td style=\"text-align: right\">42</td><td style=\"text-align: right\">284</td><td style=\"text-align: right\">14.79</td></tr><tr><td style=\"text-align: left\">2011-05</td><td style=\"text-align: right\">3</td><td style=\"text-align: right\">56</td><td style=\"text-align: right\">284</td><td style=\"text-align: right\">19.72</td></tr><tr><td style=\"text-align: left\">2011-05</td><td style=\"text-align: right\">4</td><td style=\"text-align: right\">67</td><td style=\"text-align: right\">284</td><td style=\"text-align: right\">23.59</td></tr><tr><td style=\"text-align: left\">2011-05</td><td style=\"text-align: right\">5</td><td style=\"text-align: right\">62</td><td style=\"text-align: right\">284</td><td style=\"text-align: right\">21.83</td></tr><tr><td style=\"text-align: left\">2011-05</td><td style=\"text-align: right\">6</td><td style=\"text-align: right\">77</td><td style=\"text-align: right\">284</td><td style=\"text-align: right\">27.11</td></tr><tr><td style=\"text-align: left\">2011-06</td><td style=\"text-align: right\">0</td><td style=\"text-align: right\">242</td><td style=\"text-align: right\">242</td><td style=\"text-align: right\">100.0</td></tr><tr><td style=\"text-align: left\">2011-06</td><td style=\"text-align: right\">1</td><td style=\"text-align: right\">37</td><td style=\"text-align: right\">242</td><td style=\"text-align: right\">15.29</td></tr><tr><td style=\"text-align: left\">2011-06</td><td style=\"text-align: right\">2</td><td style=\"text-align: right\">45</td><td style=\"text-align: right\">242</td><td style=\"text-align: right\">18.6</td></tr><tr><td style=\"text-align: left\">2011-06</td><td style=\"text-align: right\">3</td><td style=\"text-align: right\">57</td><td style=\"text-align: right\">242</td><td style=\"text-align: right\">23.55</td></tr><tr><td style=\"text-align: left\">2011-06</td><td style=\"text-align: right\">4</td><td style=\"text-align: right\">66</td><td style=\"text-align: right\">242</td><td style=\"text-align: right\">27.27</td></tr><tr><td style=\"text-align: left\">2011-06</td><td style=\"text-align: right\">5</td><td style=\"text-align: right\">71</td><td style=\"text-align: right\">242</td><td style=\"text-align: right\">29.34</td></tr><tr><td style=\"text-align: left\">2011-06</td><td style=\"text-align: right\">6</td><td style=\"text-align: right\">9</td><td style=\"text-align: right\">242</td><td style=\"text-align: right\">3.72</td></tr><tr><td style=\"text-align: left\">2011-07</td><td style=\"text-align: right\">0</td><td style=\"text-align: right\">188</td><td style=\"text-align: right\">188</td><td style=\"text-align: right\">100.0</td></tr><tr><td style=\"text-align: left\">2011-07</td><td style=\"text-align: right\">1</td><td style=\"text-align: right\">34</td><td style=\"text-align: right\">188</td><td style=\"text-align: right\">18.09</td></tr><tr><td style=\"text-align: left\">2011-07</td><td style=\"text-align: right\">2</td><td style=\"text-align: right\">39</td><td style=\"text-align: right\">188</td><td style=\"text-align: right\">20.74</td></tr><tr><td style=\"text-align: left\">2011-07</td><td style=\"text-align: right\">3</td><td style=\"text-align: right\">46</td><td style=\"text-align: right\">188</td><td style=\"text-align: right\">24.47</td></tr><tr><td style=\"text-align: left\">2011-07</td><td style=\"text-align: right\">4</td><td style=\"text-align: right\">45</td><td style=\"text-align: right\">188</td><td style=\"text-align: right\">23.94</td></tr><tr><td style=\"text-align: left\">2011-07</td><td style=\"text-align: right\">5</td><td style=\"text-align: right\">1</td><td style=\"text-align: right\">188</td><td style=\"text-align: right\">0.53</td></tr><tr><td style=\"text-align: left\">2011-08</td><td style=\"text-align: right\">0</td><td style=\"text-align: right\">169</td><td style=\"text-align: right\">169</td><td style=\"text-align: right\">100.0</td></tr><tr><td style=\"text-align: left\">2011-08</td><td style=\"text-align: right\">1</td><td style=\"text-align: right\">33</td><td style=\"text-align: right\">169</td><td style=\"text-align: right\">19.53</td></tr><tr><td style=\"text-align: left\">2011-08</td><td style=\"text-align: right\">2</td><td style=\"text-align: right\">50</td><td style=\"text-align: right\">169</td><td style=\"text-align: right\">29.59</td></tr><tr><td style=\"text-align: left\">2011-08</td><td style=\"text-align: right\">3</td><td style=\"text-align: right\">35</td><td style=\"text-align: right\">169</td><td style=\"text-align: right\">20.71</td></tr><tr><td style=\"text-align: left\">2011-08</td><td style=\"text-align: right\">4</td><td style=\"text-align: right\">3</td><td style=\"text-align: right\">169</td><td style=\"text-align: right\">1.78</td></tr><tr><td style=\"text-align: left\">2011-09</td><td style=\"text-align: right\">0</td><td style=\"text-align: right\">299</td><td style=\"text-align: right\">299</td><td style=\"text-align: right\">100.0</td></tr><tr><td style=\"text-align: left\">2011-09</td><td style=\"text-align: right\">1</td><td style=\"text-align: right\">87</td><td style=\"text-align: right\">299</td><td style=\"text-align: right\">29.1</td></tr><tr><td style=\"text-align: left\">2011-09</td><td style=\"text-align: right\">2</td><td style=\"text-align: right\">72</td><td style=\"text-align: right\">299</td><td style=\"text-align: right\">24.08</td></tr><tr><td style=\"text-align: left\">2011-09</td><td style=\"text-align: right\">3</td><td style=\"text-align: right\">5</td><td style=\"text-align: right\">299</td><td style=\"text-align: right\">1.67</td></tr><tr><td style=\"text-align: left\">2011-10</td><td style=\"text-align: right\">0</td><td style=\"text-align: right\">358</td><td style=\"text-align: right\">358</td><td style=\"text-align: right\">100.0</td></tr><tr><td style=\"text-align: left\">2011-10</td><td style=\"text-align: right\">1</td><td style=\"text-align: right\">73</td><td style=\"text-align: right\">358</td><td style=\"text-align: right\">20.39</td></tr><tr><td style=\"text-align: left\">2011-10</td><td style=\"text-align: right\">2</td><td style=\"text-align: right\">6</td><td style=\"text-align: right\">358</td><td style=\"text-align: right\">1.68</td></tr><tr><td style=\"text-align: left\">2011-11</td><td style=\"text-align: right\">0</td><td style=\"text-align: right\">323</td><td style=\"text-align: right\">323</td><td style=\"text-align: right\">100.0</td></tr><tr><td style=\"text-align: left\">2011-11</td><td style=\"text-align: right\">1</td><td style=\"text-align: right\">10</td><td style=\"text-align: right\">323</td><td style=\"text-align: right\">3.1</td></tr><tr><td style=\"text-align: left\">2011-12</td><td style=\"text-align: right\">0</td><td style=\"text-align: right\">41</td><td style=\"text-align: right\">41</td><td style=\"text-align: right\">100.0</td></tr></tbody></table>"
      ],
      "text/plain": [
       "<IPython.core.display.HTML object>"
      ]
     },
     "execution_count": 16,
     "metadata": {},
     "output_type": "execute_result"
    }
   ],
   "source": [
    "%%sql\n",
    "WITH first_orders AS (\n",
    "  SELECT\n",
    "    CustomerID,\n",
    "    MIN(InvoiceDate) AS first_order\n",
    "  FROM v_sales_clean\n",
    "  WHERE CustomerID IS NOT NULL\n",
    "  GROUP BY CustomerID\n",
    "),\n",
    "orders AS (\n",
    "  SELECT\n",
    "    r.CustomerID,\n",
    "    strftime('%Y-%m', f.first_order) AS cohort_month,\n",
    "    CAST((julianday(r.InvoiceDate) - julianday(f.first_order)) / 30 AS INT) AS month_offset\n",
    "  FROM v_sales_clean r\n",
    "  JOIN first_orders f USING (CustomerID)\n",
    "  WHERE r.CustomerID IS NOT NULL\n",
    "),\n",
    "base AS (\n",
    "  SELECT\n",
    "    cohort_month,\n",
    "    COUNT(DISTINCT CustomerID) AS cohort_size\n",
    "  FROM orders\n",
    "  WHERE month_offset = 0\n",
    "  GROUP BY cohort_month\n",
    ")\n",
    "SELECT\n",
    "  o.cohort_month,\n",
    "  o.month_offset,\n",
    "  COUNT(DISTINCT o.CustomerID) AS active_customers,\n",
    "  b.cohort_size,\n",
    "  ROUND(CAST(COUNT(DISTINCT o.CustomerID) AS FLOAT) / b.cohort_size * 100, 2) AS retention_pct\n",
    "FROM orders o\n",
    "JOIN base b USING (cohort_month)\n",
    "WHERE o.month_offset BETWEEN 0 AND 6\n",
    "GROUP BY o.cohort_month, o.month_offset\n",
    "ORDER BY o.cohort_month, o.month_offset;\n"
   ]
  },
  {
   "cell_type": "code",
   "execution_count": 21,
   "id": "98dc7d56",
   "metadata": {},
   "outputs": [
    {
     "name": "stdout",
     "output_type": "stream",
     "text": [
      "Done!\n"
     ]
    }
   ],
   "source": [
    "%%sql\n",
    "CREATE VIEW IF NOT EXISTS v_cohort_retention AS\n",
    "WITH first_orders AS (\n",
    "  SELECT CustomerID, MIN(InvoiceDate) AS first_order\n",
    "  FROM v_sales_clean\n",
    "  WHERE CustomerID IS NOT NULL\n",
    "  GROUP BY CustomerID\n",
    "),\n",
    "orders AS (\n",
    "  SELECT r.CustomerID,\n",
    "         strftime('%Y-%m', f.first_order) AS cohort_month,\n",
    "         CAST((julianday(r.InvoiceDate) - julianday(f.first_order)) / 30 AS INT) AS month_offset\n",
    "  FROM v_sales_clean r\n",
    "  JOIN first_orders f USING (CustomerID)\n",
    "  WHERE r.CustomerID IS NOT NULL\n",
    "),\n",
    "base AS (\n",
    "  SELECT cohort_month, COUNT(DISTINCT CustomerID) AS cohort_size\n",
    "  FROM orders\n",
    "  WHERE month_offset = 0\n",
    "  GROUP BY cohort_month\n",
    ")\n",
    "SELECT o.cohort_month,\n",
    "       o.month_offset,\n",
    "       COUNT(DISTINCT o.CustomerID) AS active_customers,\n",
    "       b.cohort_size,\n",
    "       ROUND(CAST(COUNT(DISTINCT o.CustomerID) AS FLOAT) / b.cohort_size * 100, 2) AS retention_pct\n",
    "FROM orders o\n",
    "JOIN base b USING (cohort_month)\n",
    "WHERE o.month_offset BETWEEN 0 AND 6\n",
    "GROUP BY o.cohort_month, o.month_offset;\n"
   ]
  },
  {
   "cell_type": "code",
   "execution_count": 17,
   "id": "f921ffc0",
   "metadata": {},
   "outputs": [
    {
     "data": {
      "text/html": [
       "<table><thead><tr><th style=\"text-align: left\">cohort_month</th><th style=\"text-align: left\">cohort_revenue</th><th style=\"text-align: left\">customers</th><th style=\"text-align: left\">revenue_per_customer</th></tr></thead><tbody><tr><td style=\"text-align: left\">2010-12</td><td style=\"text-align: right\">4512148.22</td><td style=\"text-align: right\">885</td><td style=\"text-align: right\">5098.47</td></tr><tr><td style=\"text-align: left\">2011-01</td><td style=\"text-align: right\">1125882.28</td><td style=\"text-align: right\">417</td><td style=\"text-align: right\">2699.96</td></tr><tr><td style=\"text-align: left\">2011-03</td><td style=\"text-align: right\">643758.94</td><td style=\"text-align: right\">452</td><td style=\"text-align: right\">1424.25</td></tr><tr><td style=\"text-align: left\">2011-02</td><td style=\"text-align: right\">593876.88</td><td style=\"text-align: right\">380</td><td style=\"text-align: right\">1562.83</td></tr><tr><td style=\"text-align: left\">2011-05</td><td style=\"text-align: right\">455545.38</td><td style=\"text-align: right\">284</td><td style=\"text-align: right\">1604.03</td></tr><tr><td style=\"text-align: left\">2011-04</td><td style=\"text-align: right\">326621.03</td><td style=\"text-align: right\">300</td><td style=\"text-align: right\">1088.74</td></tr><tr><td style=\"text-align: left\">2011-06</td><td style=\"text-align: right\">273455.23</td><td style=\"text-align: right\">242</td><td style=\"text-align: right\">1129.98</td></tr><tr><td style=\"text-align: left\">2011-09</td><td style=\"text-align: right\">233296.82</td><td style=\"text-align: right\">299</td><td style=\"text-align: right\">780.26</td></tr><tr><td style=\"text-align: left\">2011-10</td><td style=\"text-align: right\">227369.54</td><td style=\"text-align: right\">358</td><td style=\"text-align: right\">635.11</td></tr><tr><td style=\"text-align: left\">2011-08</td><td style=\"text-align: right\">196049.05</td><td style=\"text-align: right\">169</td><td style=\"text-align: right\">1160.05</td></tr><tr><td style=\"text-align: left\">2011-11</td><td style=\"text-align: right\">151876.73</td><td style=\"text-align: right\">323</td><td style=\"text-align: right\">470.21</td></tr><tr><td style=\"text-align: left\">2011-07</td><td style=\"text-align: right\">144468.34</td><td style=\"text-align: right\">188</td><td style=\"text-align: right\">768.45</td></tr><tr><td style=\"text-align: left\">2011-12</td><td style=\"text-align: right\">27059.46</td><td style=\"text-align: right\">41</td><td style=\"text-align: right\">659.99</td></tr></tbody></table>"
      ],
      "text/plain": [
       "<IPython.core.display.HTML object>"
      ]
     },
     "execution_count": 17,
     "metadata": {},
     "output_type": "execute_result"
    }
   ],
   "source": [
    "%%sql\n",
    "WITH first_orders AS (\n",
    "  SELECT CustomerID, MIN(InvoiceDate) AS first_order\n",
    "  FROM v_sales_clean\n",
    "  WHERE CustomerID IS NOT NULL\n",
    "  GROUP BY CustomerID\n",
    "),\n",
    "orders AS (\n",
    "  SELECT r.CustomerID,\n",
    "         strftime('%Y-%m', f.first_order) AS cohort_month,\n",
    "         r.InvoiceNo,\n",
    "         SUM(r.Quantity * r.UnitPrice) AS order_value\n",
    "  FROM v_sales_clean r\n",
    "  JOIN first_orders f USING (CustomerID)\n",
    "  WHERE r.CustomerID IS NOT NULL\n",
    "  GROUP BY r.CustomerID, r.InvoiceNo\n",
    ")\n",
    "SELECT cohort_month,\n",
    "       ROUND(SUM(order_value),2) AS cohort_revenue,\n",
    "       COUNT(DISTINCT CustomerID) AS customers,\n",
    "       ROUND(SUM(order_value) / COUNT(DISTINCT CustomerID),2) AS revenue_per_customer\n",
    "FROM orders\n",
    "GROUP BY cohort_month\n",
    "ORDER BY cohort_revenue DESC;\n"
   ]
  },
  {
   "cell_type": "markdown",
   "id": "e231102a",
   "metadata": {},
   "source": [
    "# Part 3"
   ]
  },
  {
   "cell_type": "code",
   "execution_count": 26,
   "id": "6456ac50",
   "metadata": {},
   "outputs": [
    {
     "data": {
      "text/html": [
       "<table><thead><tr><th style=\"text-align: left\">month</th><th style=\"text-align: left\">revenue</th></tr></thead><tbody><tr><td style=\"text-align: left\">2010-12</td><td style=\"text-align: right\">823746.1399999646</td></tr><tr><td style=\"text-align: left\">2011-01</td><td style=\"text-align: right\">691364.5600000108</td></tr><tr><td style=\"text-align: left\">2011-02</td><td style=\"text-align: right\">523631.8900000278</td></tr><tr><td style=\"text-align: left\">2011-03</td><td style=\"text-align: right\">717639.3600000187</td></tr><tr><td style=\"text-align: left\">2011-04</td><td style=\"text-align: right\">537808.6210000243</td></tr><tr><td style=\"text-align: left\">2011-05</td><td style=\"text-align: right\">770536.0200000107</td></tr><tr><td style=\"text-align: left\">2011-06</td><td style=\"text-align: right\">761739.9000000219</td></tr><tr><td style=\"text-align: left\">2011-07</td><td style=\"text-align: right\">719221.1910000272</td></tr><tr><td style=\"text-align: left\">2011-08</td><td style=\"text-align: right\">759138.3800000148</td></tr><tr><td style=\"text-align: left\">2011-09</td><td style=\"text-align: right\">1058590.171999997</td></tr><tr><td style=\"text-align: left\">2011-10</td><td style=\"text-align: right\">1154979.2999999207</td></tr><tr><td style=\"text-align: left\">2011-11</td><td style=\"text-align: right\">1509496.329999743</td></tr><tr><td style=\"text-align: left\">2011-12</td><td style=\"text-align: right\">638792.680000013</td></tr></tbody></table>"
      ],
      "text/plain": [
       "<IPython.core.display.HTML object>"
      ]
     },
     "execution_count": 26,
     "metadata": {},
     "output_type": "execute_result"
    }
   ],
   "source": [
    "%%sql\n",
    "SELECT\n",
    "  strftime('%Y-%m', InvoiceDate) AS month,\n",
    "  SUM(Quantity * UnitPrice) AS revenue\n",
    "FROM v_sales_clean\n",
    "GROUP BY month\n",
    "ORDER BY month;\n"
   ]
  },
  {
   "cell_type": "code",
   "execution_count": 23,
   "id": "f6be15b1",
   "metadata": {},
   "outputs": [
    {
     "data": {
      "image/png": "[encoded data removed]",
      "text/plain": [
       "<Figure size 720x360 with 1 Axes>"
      ]
     },
     "metadata": {
      "needs_background": "light"
     },
     "output_type": "display_data"
    }
   ],
   "source": [
    "import sqlite3, pandas as pd, matplotlib.pyplot as plt\n",
    "\n",
    "con = sqlite3.connect(\"retail.db\")\n",
    "q1 = \"\"\"\n",
    "SELECT strftime('%Y-%m', InvoiceDate) AS month,\n",
    "       SUM(Quantity * UnitPrice) AS revenue\n",
    "FROM v_sales_clean\n",
    "GROUP BY month\n",
    "ORDER BY month;\n",
    "\"\"\"\n",
    "monthly_rev = pd.read_sql_query(q1, con)\n",
    "\n",
    "plt.figure(figsize=(10,5))\n",
    "plt.plot(monthly_rev[\"month\"], monthly_rev[\"revenue\"])\n",
    "plt.title(\"Monthly Revenue\")\n",
    "plt.xlabel(\"Month\")\n",
    "plt.ylabel(\"Revenue\")\n",
    "plt.xticks(rotation=60)\n",
    "plt.tight_layout()\n",
    "plt.show()\n",
    "\n",
    "monthly_rev.to_csv(\"monthly_revenue.csv\", index=False)\n"
   ]
  },
  {
   "cell_type": "code",
   "execution_count": 27,
   "id": "9aedc49d",
   "metadata": {},
   "outputs": [
    {
     "data": {
      "text/html": [
       "<table><thead><tr><th style=\"text-align: left\">Description</th><th style=\"text-align: left\">revenue</th></tr></thead><tbody><tr><td style=\"text-align: left\">DOTCOM POSTAGE</td><td style=\"text-align: right\">206248.7700000002</td></tr><tr><td style=\"text-align: left\">REGENCY CAKESTAND 3 TIER</td><td style=\"text-align: right\">174484.74000000025</td></tr><tr><td style=\"text-align: left\">PAPER CRAFT , LITTLE BIRDIE</td><td style=\"text-align: right\">168469.6</td></tr><tr><td style=\"text-align: left\">WHITE HANGING HEART T-LIGHT HOLDER</td><td style=\"text-align: right\">106292.76999999832</td></tr><tr><td style=\"text-align: left\">PARTY BUNTING</td><td style=\"text-align: right\">99504.33000000053</td></tr><tr><td style=\"text-align: left\">JUMBO BAG RED RETROSPOT</td><td style=\"text-align: right\">94340.0500000021</td></tr><tr><td style=\"text-align: left\">MEDIUM CERAMIC TOP STORAGE JAR</td><td style=\"text-align: right\">81700.92000000007</td></tr><tr><td style=\"text-align: left\">Manual</td><td style=\"text-align: right\">78112.81999999993</td></tr><tr><td style=\"text-align: left\">POSTAGE</td><td style=\"text-align: right\">78101.87999999999</td></tr><tr><td style=\"text-align: left\">RABBIT NIGHT LIGHT</td><td style=\"text-align: right\">66964.99000000028</td></tr></tbody></table>"
      ],
      "text/plain": [
       "<IPython.core.display.HTML object>"
      ]
     },
     "execution_count": 27,
     "metadata": {},
     "output_type": "execute_result"
    }
   ],
   "source": [
    "%%sql\n",
    "SELECT\n",
    "  Description,\n",
    "  SUM(Quantity * UnitPrice) AS revenue\n",
    "FROM v_sales_clean\n",
    "GROUP BY Description\n",
    "ORDER BY revenue DESC\n",
    "LIMIT 10;\n"
   ]
  },
  {
   "cell_type": "code",
   "execution_count": 28,
   "id": "e4193ac8",
   "metadata": {},
   "outputs": [
    {
     "data": {
      "image/png": "[encoded data removed]",
      "text/plain": [
       "<Figure size 720x432 with 1 Axes>"
      ]
     },
     "metadata": {
      "needs_background": "light"
     },
     "output_type": "display_data"
    }
   ],
   "source": [
    "q2 = \"\"\"\n",
    "SELECT Description,\n",
    "       SUM(Quantity * UnitPrice) AS revenue\n",
    "FROM v_sales_clean\n",
    "GROUP BY Description\n",
    "ORDER BY revenue DESC\n",
    "LIMIT 10;\n",
    "\"\"\"\n",
    "top_products = pd.read_sql_query(q2, con)\n",
    "\n",
    "# Plot as horizontal bars, smallest at top for readability\n",
    "tp = top_products.sort_values(\"revenue\", ascending=True)\n",
    "\n",
    "plt.figure(figsize=(10,6))\n",
    "plt.barh(tp[\"Description\"], tp[\"revenue\"])\n",
    "plt.title(\"Top 10 Products by Revenue\")\n",
    "plt.xlabel(\"Revenue\")\n",
    "plt.ylabel(\"Product\")\n",
    "plt.tight_layout()\n",
    "plt.show()\n",
    "\n",
    "top_products.to_csv(\"top_products.csv\", index=False)\n"
   ]
  },
  {
   "cell_type": "code",
   "execution_count": 29,
   "id": "8cfd1384",
   "metadata": {},
   "outputs": [
    {
     "data": {
      "text/html": [
       "<table><thead><tr><th style=\"text-align: left\">cohort_month</th><th style=\"text-align: left\">month_offset</th><th style=\"text-align: left\">retention_pct</th></tr></thead><tbody><tr><td style=\"text-align: left\">2010-12</td><td style=\"text-align: right\">0</td><td style=\"text-align: right\">100.0</td></tr><tr><td style=\"text-align: left\">2010-12</td><td style=\"text-align: right\">1</td><td style=\"text-align: right\">36.61</td></tr><tr><td style=\"text-align: left\">2010-12</td><td style=\"text-align: right\">2</td><td style=\"text-align: right\">34.69</td></tr><tr><td style=\"text-align: left\">2010-12</td><td style=\"text-align: right\">3</td><td style=\"text-align: right\">38.31</td></tr><tr><td style=\"text-align: left\">2010-12</td><td style=\"text-align: right\">4</td><td style=\"text-align: right\">34.35</td></tr><tr><td style=\"text-align: left\">2010-12</td><td style=\"text-align: right\">5</td><td style=\"text-align: right\">38.19</td></tr><tr><td style=\"text-align: left\">2010-12</td><td style=\"text-align: right\">6</td><td style=\"text-align: right\">36.72</td></tr><tr><td style=\"text-align: left\">2011-01</td><td style=\"text-align: right\">0</td><td style=\"text-align: right\">100.0</td></tr><tr><td style=\"text-align: left\">2011-01</td><td style=\"text-align: right\">1</td><td style=\"text-align: right\">24.7</td></tr><tr><td style=\"text-align: left\">2011-01</td><td style=\"text-align: right\">2</td><td style=\"text-align: right\">27.82</td></tr><tr><td style=\"text-align: left\">2011-01</td><td style=\"text-align: right\">3</td><td style=\"text-align: right\">28.06</td></tr><tr><td style=\"text-align: left\">2011-01</td><td style=\"text-align: right\">4</td><td style=\"text-align: right\">26.86</td></tr><tr><td style=\"text-align: left\">2011-01</td><td style=\"text-align: right\">5</td><td style=\"text-align: right\">28.3</td></tr><tr><td style=\"text-align: left\">2011-01</td><td style=\"text-align: right\">6</td><td style=\"text-align: right\">23.5</td></tr><tr><td style=\"text-align: left\">2011-02</td><td style=\"text-align: right\">0</td><td style=\"text-align: right\">100.0</td></tr><tr><td style=\"text-align: left\">2011-02</td><td style=\"text-align: right\">1</td><td style=\"text-align: right\">21.32</td></tr><tr><td style=\"text-align: left\">2011-02</td><td style=\"text-align: right\">2</td><td style=\"text-align: right\">24.21</td></tr><tr><td style=\"text-align: left\">2011-02</td><td style=\"text-align: right\">3</td><td style=\"text-align: right\">27.89</td></tr><tr><td style=\"text-align: left\">2011-02</td><td style=\"text-align: right\">4</td><td style=\"text-align: right\">21.32</td></tr><tr><td style=\"text-align: left\">2011-02</td><td style=\"text-align: right\">5</td><td style=\"text-align: right\">26.05</td></tr><tr><td style=\"text-align: left\">2011-02</td><td style=\"text-align: right\">6</td><td style=\"text-align: right\">24.74</td></tr><tr><td style=\"text-align: left\">2011-03</td><td style=\"text-align: right\">0</td><td style=\"text-align: right\">100.0</td></tr><tr><td style=\"text-align: left\">2011-03</td><td style=\"text-align: right\">1</td><td style=\"text-align: right\">17.92</td></tr><tr><td style=\"text-align: left\">2011-03</td><td style=\"text-align: right\">2</td><td style=\"text-align: right\">23.23</td></tr><tr><td style=\"text-align: left\">2011-03</td><td style=\"text-align: right\">3</td><td style=\"text-align: right\">21.68</td></tr><tr><td style=\"text-align: left\">2011-03</td><td style=\"text-align: right\">4</td><td style=\"text-align: right\">19.03</td></tr><tr><td style=\"text-align: left\">2011-03</td><td style=\"text-align: right\">5</td><td style=\"text-align: right\">18.81</td></tr><tr><td style=\"text-align: left\">2011-03</td><td style=\"text-align: right\">6</td><td style=\"text-align: right\">25.22</td></tr><tr><td style=\"text-align: left\">2011-04</td><td style=\"text-align: right\">0</td><td style=\"text-align: right\">100.0</td></tr><tr><td style=\"text-align: left\">2011-04</td><td style=\"text-align: right\">1</td><td style=\"text-align: right\">25.0</td></tr><tr><td style=\"text-align: left\">2011-04</td><td style=\"text-align: right\">2</td><td style=\"text-align: right\">16.67</td></tr><tr><td style=\"text-align: left\">2011-04</td><td style=\"text-align: right\">3</td><td style=\"text-align: right\">22.0</td></tr><tr><td style=\"text-align: left\">2011-04</td><td style=\"text-align: right\">4</td><td style=\"text-align: right\">17.33</td></tr><tr><td style=\"text-align: left\">2011-04</td><td style=\"text-align: right\">5</td><td style=\"text-align: right\">21.33</td></tr><tr><td style=\"text-align: left\">2011-04</td><td style=\"text-align: right\">6</td><td style=\"text-align: right\">24.0</td></tr><tr><td style=\"text-align: left\">2011-05</td><td style=\"text-align: right\">0</td><td style=\"text-align: right\">100.0</td></tr><tr><td style=\"text-align: left\">2011-05</td><td style=\"text-align: right\">1</td><td style=\"text-align: right\">19.72</td></tr><tr><td style=\"text-align: left\">2011-05</td><td style=\"text-align: right\">2</td><td style=\"text-align: right\">14.79</td></tr><tr><td style=\"text-align: left\">2011-05</td><td style=\"text-align: right\">3</td><td style=\"text-align: right\">19.72</td></tr><tr><td style=\"text-align: left\">2011-05</td><td style=\"text-align: right\">4</td><td style=\"text-align: right\">23.59</td></tr><tr><td style=\"text-align: left\">2011-05</td><td style=\"text-align: right\">5</td><td style=\"text-align: right\">21.83</td></tr><tr><td style=\"text-align: left\">2011-05</td><td style=\"text-align: right\">6</td><td style=\"text-align: right\">27.11</td></tr><tr><td style=\"text-align: left\">2011-06</td><td style=\"text-align: right\">0</td><td style=\"text-align: right\">100.0</td></tr><tr><td style=\"text-align: left\">2011-06</td><td style=\"text-align: right\">1</td><td style=\"text-align: right\">15.29</td></tr><tr><td style=\"text-align: left\">2011-06</td><td style=\"text-align: right\">2</td><td style=\"text-align: right\">18.6</td></tr><tr><td style=\"text-align: left\">2011-06</td><td style=\"text-align: right\">3</td><td style=\"text-align: right\">23.55</td></tr><tr><td style=\"text-align: left\">2011-06</td><td style=\"text-align: right\">4</td><td style=\"text-align: right\">27.27</td></tr><tr><td style=\"text-align: left\">2011-06</td><td style=\"text-align: right\">5</td><td style=\"text-align: right\">29.34</td></tr><tr><td style=\"text-align: left\">2011-06</td><td style=\"text-align: right\">6</td><td style=\"text-align: right\">3.72</td></tr><tr><td style=\"text-align: left\">2011-07</td><td style=\"text-align: right\">0</td><td style=\"text-align: right\">100.0</td></tr><tr><td style=\"text-align: left\">2011-07</td><td style=\"text-align: right\">1</td><td style=\"text-align: right\">18.09</td></tr><tr><td style=\"text-align: left\">2011-07</td><td style=\"text-align: right\">2</td><td style=\"text-align: right\">20.74</td></tr><tr><td style=\"text-align: left\">2011-07</td><td style=\"text-align: right\">3</td><td style=\"text-align: right\">24.47</td></tr><tr><td style=\"text-align: left\">2011-07</td><td style=\"text-align: right\">4</td><td style=\"text-align: right\">23.94</td></tr><tr><td style=\"text-align: left\">2011-07</td><td style=\"text-align: right\">5</td><td style=\"text-align: right\">0.53</td></tr><tr><td style=\"text-align: left\">2011-08</td><td style=\"text-align: right\">0</td><td style=\"text-align: right\">100.0</td></tr><tr><td style=\"text-align: left\">2011-08</td><td style=\"text-align: right\">1</td><td style=\"text-align: right\">19.53</td></tr><tr><td style=\"text-align: left\">2011-08</td><td style=\"text-align: right\">2</td><td style=\"text-align: right\">29.59</td></tr><tr><td style=\"text-align: left\">2011-08</td><td style=\"text-align: right\">3</td><td style=\"text-align: right\">20.71</td></tr><tr><td style=\"text-align: left\">2011-08</td><td style=\"text-align: right\">4</td><td style=\"text-align: right\">1.78</td></tr><tr><td style=\"text-align: left\">2011-09</td><td style=\"text-align: right\">0</td><td style=\"text-align: right\">100.0</td></tr><tr><td style=\"text-align: left\">2011-09</td><td style=\"text-align: right\">1</td><td style=\"text-align: right\">29.1</td></tr><tr><td style=\"text-align: left\">2011-09</td><td style=\"text-align: right\">2</td><td style=\"text-align: right\">24.08</td></tr><tr><td style=\"text-align: left\">2011-09</td><td style=\"text-align: right\">3</td><td style=\"text-align: right\">1.67</td></tr><tr><td style=\"text-align: left\">2011-10</td><td style=\"text-align: right\">0</td><td style=\"text-align: right\">100.0</td></tr><tr><td style=\"text-align: left\">2011-10</td><td style=\"text-align: right\">1</td><td style=\"text-align: right\">20.39</td></tr><tr><td style=\"text-align: left\">2011-10</td><td style=\"text-align: right\">2</td><td style=\"text-align: right\">1.68</td></tr><tr><td style=\"text-align: left\">2011-11</td><td style=\"text-align: right\">0</td><td style=\"text-align: right\">100.0</td></tr><tr><td style=\"text-align: left\">2011-11</td><td style=\"text-align: right\">1</td><td style=\"text-align: right\">3.1</td></tr><tr><td style=\"text-align: left\">2011-12</td><td style=\"text-align: right\">0</td><td style=\"text-align: right\">100.0</td></tr></tbody></table>"
      ],
      "text/plain": [
       "<IPython.core.display.HTML object>"
      ]
     },
     "execution_count": 29,
     "metadata": {},
     "output_type": "execute_result"
    }
   ],
   "source": [
    "%%sql\n",
    "WITH first_orders AS (\n",
    "  SELECT CustomerID, MIN(InvoiceDate) AS first_order\n",
    "  FROM v_sales_clean\n",
    "  WHERE CustomerID IS NOT NULL\n",
    "  GROUP BY CustomerID\n",
    "),\n",
    "orders AS (\n",
    "  SELECT r.CustomerID,\n",
    "         strftime('%Y-%m', f.first_order) AS cohort_month,\n",
    "         CAST((julianday(r.InvoiceDate) - julianday(f.first_order)) / 30 AS INT) AS month_offset\n",
    "  FROM v_sales_clean r\n",
    "  JOIN first_orders f USING (CustomerID)\n",
    "  WHERE r.CustomerID IS NOT NULL\n",
    "),\n",
    "base AS (\n",
    "  SELECT cohort_month, COUNT(DISTINCT CustomerID) AS cohort_size\n",
    "  FROM orders\n",
    "  WHERE month_offset = 0\n",
    "  GROUP BY cohort_month\n",
    ")\n",
    "SELECT o.cohort_month,\n",
    "       o.month_offset,\n",
    "       ROUND(CAST(COUNT(DISTINCT o.CustomerID) AS FLOAT) / b.cohort_size * 100, 2) AS retention_pct\n",
    "FROM orders o\n",
    "JOIN base b USING (cohort_month)\n",
    "WHERE o.month_offset BETWEEN 0 AND 6\n",
    "GROUP BY o.cohort_month, o.month_offset\n",
    "ORDER BY o.cohort_month, o.month_offset;\n"
   ]
  },
  {
   "cell_type": "code",
   "execution_count": 30,
   "id": "84d9ed6a",
   "metadata": {},
   "outputs": [
    {
     "data": {
      "image/png": "[encoded data removed]",
      "text/plain": [
       "<Figure size 864x432 with 2 Axes>"
      ]
     },
     "metadata": {
      "needs_background": "light"
     },
     "output_type": "display_data"
    }
   ],
   "source": [
    "q3 = \"\"\"\n",
    "WITH first_orders AS (\n",
    "  SELECT CustomerID, MIN(InvoiceDate) AS first_order\n",
    "  FROM v_sales_clean\n",
    "  WHERE CustomerID IS NOT NULL\n",
    "  GROUP BY CustomerID\n",
    "),\n",
    "orders AS (\n",
    "  SELECT r.CustomerID,\n",
    "         strftime('%Y-%m', f.first_order) AS cohort_month,\n",
    "         CAST((julianday(r.InvoiceDate) - julianday(f.first_order)) / 30 AS INT) AS month_offset\n",
    "  FROM v_sales_clean r\n",
    "  JOIN first_orders f USING (CustomerID)\n",
    "  WHERE r.CustomerID IS NOT NULL\n",
    "),\n",
    "base AS (\n",
    "  SELECT cohort_month, COUNT(DISTINCT CustomerID) AS cohort_size\n",
    "  FROM orders\n",
    "  WHERE month_offset = 0\n",
    "  GROUP BY cohort_month\n",
    ")\n",
    "SELECT o.cohort_month,\n",
    "       o.month_offset,\n",
    "       ROUND(CAST(COUNT(DISTINCT o.CustomerID) AS FLOAT) / b.cohort_size * 100, 2) AS retention_pct\n",
    "FROM orders o\n",
    "JOIN base b USING (cohort_month)\n",
    "WHERE o.month_offset BETWEEN 0 AND 12\n",
    "GROUP BY o.cohort_month, o.month_offset\n",
    "ORDER BY o.cohort_month, o.month_offset;\n",
    "\"\"\"\n",
    "coh = pd.read_sql_query(q3, con)\n",
    "\n",
    "# Pivot to matrix form\n",
    "pivot = coh.pivot(index=\"cohort_month\", columns=\"month_offset\", values=\"retention_pct\").fillna(0)\n",
    "\n",
    "# Plot heatmap with matplotlib\n",
    "plt.figure(figsize=(12,6))\n",
    "im = plt.imshow(pivot.values, aspect=\"auto\")\n",
    "plt.title(\"Customer Retention by Cohort (%)\")\n",
    "plt.xlabel(\"Months Since First Purchase\")\n",
    "plt.ylabel(\"Cohort Month\")\n",
    "plt.colorbar(im, label=\"Retention %\")\n",
    "\n",
    "# Tick labels\n",
    "plt.xticks(ticks=range(pivot.shape[1]), labels=pivot.columns.astype(int))\n",
    "plt.yticks(ticks=range(pivot.shape[0]), labels=pivot.index.tolist())\n",
    "\n",
    "plt.tight_layout()\n",
    "plt.show()\n",
    "\n",
    "pivot.to_csv(\"cohort_retention_matrix.csv\")\n"
   ]
  }
 ],
 "metadata": {
  "kernelspec": {
   "display_name": "Python 3 (ipykernel)",
   "language": "python",
   "name": "python3"
  },
  "language_info": {
   "codemirror_mode": {
    "name": "ipython",
    "version": 3
   },
   "file_extension": ".py",
   "mimetype": "text/x-python",
   "name": "python",
   "nbconvert_exporter": "python",
   "pygments_lexer": "ipython3",
   "version": "3.9.12"
  }
 },
 "nbformat": 4,
 "nbformat_minor": 5
}
